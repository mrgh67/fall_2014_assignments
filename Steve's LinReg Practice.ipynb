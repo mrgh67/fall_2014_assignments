{
 "metadata": {
  "name": "",
  "signature": "sha256:9de3b2623ec423211d03af6bd34844b561df778b4bf459963bd3e124a3339320"
 },
 "nbformat": 3,
 "nbformat_minor": 0,
 "worksheets": [
  {
   "cells": [
    {
     "cell_type": "code",
     "collapsed": false,
     "input": [
      "import pandas as pd\n",
      "import numpy as np\n",
      "import matplotlib.pyplot as plt\n",
      "import seaborn as sns\n",
      "from sklearn.linear_model import LinearRegression\n",
      "from IPython.display import Image"
     ],
     "language": "python",
     "metadata": {},
     "outputs": [],
     "prompt_number": 28
    },
    {
     "cell_type": "markdown",
     "metadata": {},
     "source": [
      "Steps:\n",
      "    1. create data\n",
      "    2. Viz\n",
      "    3. Create sklearn and fit training data\n",
      "    4. Create test input data, plug in model, get predictions\n",
      "    5. Visualize\n",
      "    "
     ]
    },
    {
     "cell_type": "heading",
     "level": 1,
     "metadata": {},
     "source": [
      "Create Random Data"
     ]
    },
    {
     "cell_type": "code",
     "collapsed": false,
     "input": [
      "np.random.seed(3)"
     ],
     "language": "python",
     "metadata": {},
     "outputs": [],
     "prompt_number": 34
    },
    {
     "cell_type": "markdown",
     "metadata": {},
     "source": [
      "Generate X Values"
     ]
    },
    {
     "cell_type": "code",
     "collapsed": false,
     "input": [
      "X = np.random.random?"
     ],
     "language": "python",
     "metadata": {},
     "outputs": [],
     "prompt_number": 2
    },
    {
     "cell_type": "code",
     "collapsed": false,
     "input": [
      "x = np.random.random(size=(500,1))\n",
      "X"
     ],
     "language": "python",
     "metadata": {},
     "outputs": [
      {
       "metadata": {},
       "output_type": "pyout",
       "prompt_number": 35,
       "text": [
        "array([[ 0.40651992],\n",
        "       [ 0.46894025],\n",
        "       [ 0.26923558],\n",
        "       [ 0.29179277],\n",
        "       [ 0.4576864 ],\n",
        "       [ 0.86053391],\n",
        "       [ 0.5862529 ],\n",
        "       [ 0.28348786],\n",
        "       [ 0.27797751],\n",
        "       [ 0.45462208],\n",
        "       [ 0.20541034],\n",
        "       [ 0.20137871],\n",
        "       [ 0.51403506],\n",
        "       [ 0.08722937],\n",
        "       [ 0.48358553],\n",
        "       [ 0.36217621],\n",
        "       [ 0.70768662],\n",
        "       [ 0.74674622],\n",
        "       [ 0.69109292],\n",
        "       [ 0.68918041]])"
       ]
      }
     ],
     "prompt_number": 35
    },
    {
     "cell_type": "code",
     "collapsed": false,
     "input": [
      "print x.shape"
     ],
     "language": "python",
     "metadata": {},
     "outputs": [
      {
       "output_type": "stream",
       "stream": "stdout",
       "text": [
        "(20, 1)\n"
       ]
      }
     ],
     "prompt_number": 11
    },
    {
     "cell_type": "code",
     "collapsed": false,
     "input": [
      "np.random.normal?"
     ],
     "language": "python",
     "metadata": {},
     "outputs": [],
     "prompt_number": 14
    },
    {
     "cell_type": "code",
     "collapsed": false,
     "input": [
      "y = 2 + 5 * x.squeeze() + np.random.normal(size=500)\n",
      "y"
     ],
     "language": "python",
     "metadata": {},
     "outputs": [
      {
       "metadata": {},
       "output_type": "pyout",
       "prompt_number": 36,
       "text": [
        "array([ 4.83308171,  4.57597565,  3.54357707,  5.33303493,  7.72937968,\n",
        "        5.60095411,  2.86433215,  3.85181886,  4.11814769,  4.4596397 ,\n",
        "        1.60787734,  3.59456646,  4.88827951,  2.74051621,  6.20781036,\n",
        "        6.02361981,  2.84476623,  5.98645668,  2.8424937 ,  4.45584104,\n",
        "        3.03296223,  5.50934828,  5.42725433,  2.75460338,  2.85843929,\n",
        "        5.64875783,  2.81896787,  1.6008723 ,  3.1494906 ,  7.64254305,\n",
        "        8.56088776,  4.87291234,  7.51670638,  7.40697646,  2.73017794,\n",
        "        2.42172234,  5.22259434,  4.96158949,  2.214073  ,  2.77613029,\n",
        "        5.09042079,  5.60690444,  5.17753997,  3.12145483,  6.15793955,\n",
        "        6.96857468,  3.57206335,  4.17904859,  3.0376075 ,  4.79218664,\n",
        "        2.92452778,  4.2151322 ,  4.82673546,  2.15364183,  5.38289343,\n",
        "        4.06710284,  5.12547671,  7.01100548,  5.04711937,  4.80876721,\n",
        "        3.32842601,  3.87520194,  3.14603615,  6.72484704,  2.72075186,\n",
        "        4.23414415,  1.1994613 ,  2.60202396,  8.37670519,  4.04927676,\n",
        "        4.8471372 ,  5.25860441,  4.79369174,  3.5912377 ,  4.06849667,\n",
        "        1.43770734,  2.68875996,  3.5916733 ,  3.24754748,  2.33108487,\n",
        "        1.28842412,  4.69927819,  2.01478038,  7.64180735,  5.96450184,\n",
        "        5.4519899 ,  5.18753469,  1.50841418,  7.59152481,  7.42228662,\n",
        "        4.14828088,  4.53911582,  7.40376851,  4.64803807,  7.06931231,\n",
        "        6.22084388,  4.09293771,  5.20136097,  5.058755  ,  2.32876472,\n",
        "        3.84014943,  3.67258099,  7.73998989,  6.04424176,  6.54084136,\n",
        "        4.31935546,  2.88518646,  5.33229195,  5.81579563,  6.72445392,\n",
        "        4.13143788,  3.5885373 ,  2.86588523,  1.8814583 ,  1.57245077,\n",
        "        7.41109978,  5.05006004,  3.85819469,  4.50239159,  1.21957633,\n",
        "        1.14899532,  4.9662988 ,  5.51974034,  4.40370441,  2.54380691,\n",
        "        6.27392793,  5.03652405,  2.91895619,  2.47795763,  4.48242059,\n",
        "        2.82828922,  5.79329628,  5.29646132,  6.87070874,  3.78802465,\n",
        "        2.89186083,  4.66016112,  6.59606892,  4.1187173 ,  3.92160124,\n",
        "        8.41024722,  2.7212923 ,  5.1824404 ,  2.72659519,  5.22504507,\n",
        "        6.69288827,  6.1214976 ,  4.05343461,  6.97752005,  2.5388247 ,\n",
        "        2.51828764,  2.53731256,  5.35792032,  1.72444312,  4.51720012,\n",
        "        6.65800937,  7.04338932,  3.41572219,  2.13480987,  1.62190623,\n",
        "        5.21959441,  8.6740498 ,  3.28325835,  4.55429573,  4.17888579,\n",
        "        6.30457165,  6.04409262,  3.2287319 ,  1.9764191 ,  6.71435045,\n",
        "        7.67221686,  2.53189061,  2.57663958,  4.29001549,  5.6868053 ,\n",
        "        3.81698237,  6.86518765,  4.00417158,  4.76042636,  3.3971599 ,\n",
        "        7.22472438,  4.65458423,  3.77525981,  7.0748757 ,  6.54762289,\n",
        "        5.21224272,  2.78445106,  1.10893191,  5.28710039,  3.44515542,\n",
        "        6.10183809,  6.09561636,  7.14330772,  5.00904673,  7.15254701,\n",
        "        1.00853276,  5.16024066,  1.06965754,  8.05031913,  5.67254266,\n",
        "        2.84428927,  1.5757829 ,  6.36198856,  2.6375204 ,  3.02910513,\n",
        "        4.76132877,  2.77656758,  5.345059  ,  6.09867156,  4.20305848,\n",
        "        5.23894166,  1.83256518,  4.02109721,  6.1940603 ,  2.77451029,\n",
        "        2.55340995,  4.07106201,  5.64472089,  2.39187378,  3.04830588,\n",
        "        5.63376406,  4.40076457,  5.62315917,  5.76269491,  4.47587093,\n",
        "        5.4875719 ,  4.50675649,  3.16966295,  3.77036564,  4.00975912,\n",
        "        3.98843619,  3.93505486,  2.74710343,  6.43183321,  2.60225757,\n",
        "        3.75332498,  5.99386478,  5.08272887,  3.08581354,  5.34365598,\n",
        "        3.88769044,  4.44766946,  2.77885932,  5.75225949,  0.59044334,\n",
        "        2.31563079,  5.35449276,  1.67943623,  1.81428542,  6.95987351,\n",
        "        7.6071537 ,  2.83212058,  5.88942671,  6.12795178,  5.30879268,\n",
        "        5.86546147,  5.16734031,  6.69727302,  1.3992814 ,  7.3190674 ,\n",
        "        4.25739497,  5.12484   ,  4.09579689,  5.09238509,  5.31645434,\n",
        "        3.69950848,  5.28146456,  6.80465562,  6.69627881,  4.18869791,\n",
        "        1.4563096 ,  6.9526167 ,  4.14101939,  2.84651276,  6.40066218,\n",
        "        7.77455253,  5.79340361,  5.1899577 ,  4.65519627,  5.66047762,\n",
        "        1.431614  ,  8.20150187,  4.66013147,  3.68192042,  5.40051208,\n",
        "        3.07642537,  6.79334832,  6.26713407,  5.34724403,  4.80433388,\n",
        "        2.51146359,  3.66706368,  3.3534691 ,  5.67942191,  2.2115137 ,\n",
        "        0.48750117,  3.70863173,  6.12957729,  4.76784243,  5.28968703,\n",
        "        6.09398637,  3.10128752,  4.56821701,  4.01584256,  3.7468481 ,\n",
        "        4.60809829,  5.78778461,  6.19484029,  5.14227776,  4.85030428,\n",
        "        5.60265539,  2.62644787,  4.19406801,  3.53687612,  3.17690237,\n",
        "        1.43251711,  3.17715223,  3.00722168,  5.06615439,  5.03135784,\n",
        "        6.53438384,  2.9562341 ,  6.83686416,  5.28891601,  4.37286329,\n",
        "        6.36471885,  5.41619815,  3.14421148,  4.88348689,  6.9358706 ,\n",
        "        1.75842561,  4.17598108,  7.52483579,  1.2197018 ,  2.52726579,\n",
        "        4.55278653,  2.08544705,  6.32189188,  5.27011246,  6.06593118,\n",
        "        4.40998274,  6.83748681,  3.04196777,  6.87002261,  2.44862705,\n",
        "        2.81217881,  3.02765692,  8.51711175,  5.36154931,  2.25370228,\n",
        "        2.61170392,  1.50675165,  4.03033954,  7.30992345,  3.89515059,\n",
        "        5.80392233,  3.43146189,  1.03552118,  4.20804466,  7.23262355,\n",
        "        5.50542063,  5.7063278 ,  1.51313316,  5.74668118,  3.04286685,\n",
        "        5.85500003,  3.81944049,  4.30726916,  2.42916684,  4.10652748,\n",
        "        2.56881295,  3.68475528,  2.02825699,  5.66236366,  5.80155589,\n",
        "        5.74475853,  4.00173161,  3.78425599,  5.9275661 ,  3.83186412,\n",
        "        1.89088408,  6.28077619,  1.66249911,  8.75019675,  3.72152461,\n",
        "        3.89843007,  6.66004826,  4.06817364,  5.30714298,  4.60661884,\n",
        "        6.53823424,  6.4085322 ,  3.70828285,  2.77134283,  4.69532554,\n",
        "        3.29877453,  3.58709092,  4.92027   ,  2.71350807,  3.9844869 ,\n",
        "        2.78511587,  6.51561947,  4.79390544,  4.40949817,  4.77849297,\n",
        "        2.44748697,  7.33080663,  4.24815874,  6.28825377,  6.80633532,\n",
        "        5.40669534,  2.85742136,  4.98236896,  4.63962223,  4.90482719,\n",
        "        6.21697403,  3.07598068,  4.03917317,  2.17195528,  3.31895128,\n",
        "        1.68504191,  4.77218995,  8.08165975,  3.54726655, -0.83565495,\n",
        "        3.74825421,  4.10445922,  4.41687709,  1.93071394,  3.93156403,\n",
        "        3.69327213,  6.22564515,  6.39864704,  7.36302213,  4.05144539,\n",
        "        5.94738322,  3.98805527,  3.98572678,  4.73908013,  7.06207392,\n",
        "        3.8639006 ,  4.05904131,  6.69940671,  8.27021917,  6.55394392,\n",
        "        5.14055316,  1.69203154,  5.05490235,  6.72477876,  5.84615341,\n",
        "        3.48200422,  5.73390035,  4.10710906,  1.72391078,  5.25210802,\n",
        "        5.78523149,  2.09400458,  5.79028779,  3.07304611,  1.76932937,\n",
        "        1.56437235,  7.31270029,  3.47259956,  6.91128632,  5.35822066,\n",
        "        4.94450761,  3.19562079,  3.88198119,  4.15819455,  6.46719847,\n",
        "        4.65494689,  4.1241414 ,  3.65845655,  7.91913431,  5.34486166,\n",
        "        4.08900528,  1.91258185,  3.97878195,  5.83082748,  3.40898604,\n",
        "        5.38598736,  4.8932783 ,  3.83533425,  4.56196723,  5.2210687 ,\n",
        "        2.08659653,  3.42310402,  2.00435291,  2.64720708,  5.50307505,\n",
        "        6.62327373,  5.77631474,  3.68835245,  5.4722483 ,  5.54270034,\n",
        "        4.7317912 ,  4.48444102,  5.29958101,  3.49443304,  5.65373477])"
       ]
      }
     ],
     "prompt_number": 36
    },
    {
     "cell_type": "code",
     "collapsed": false,
     "input": [
      "example_x = np.random.random(size=(5, 1))\n",
      "print example_x\n",
      "print example_x.shape\n",
      "print example_x.squeeze()\n",
      "print example_x.flatten()\n",
      "print example_x.reshape(example_x.size)"
     ],
     "language": "python",
     "metadata": {},
     "outputs": [
      {
       "output_type": "stream",
       "stream": "stdout",
       "text": [
        "[[ 0.96522815]\n",
        " [ 0.69881   ]\n",
        " [ 0.48249704]\n",
        " [ 0.28704976]\n",
        " [ 0.83368788]]\n",
        "(5, 1)\n",
        "[ 0.96522815  0.69881     0.48249704  0.28704976  0.83368788]\n",
        "[ 0.96522815  0.69881     0.48249704  0.28704976  0.83368788]\n",
        "[ 0.96522815  0.69881     0.48249704  0.28704976  0.83368788]\n"
       ]
      }
     ],
     "prompt_number": 19
    },
    {
     "cell_type": "code",
     "collapsed": false,
     "input": [
      "example_x.reshape?"
     ],
     "language": "python",
     "metadata": {},
     "outputs": [],
     "prompt_number": 22
    },
    {
     "cell_type": "code",
     "collapsed": false,
     "input": [
      "plt.plot(x,y,'o')"
     ],
     "language": "python",
     "metadata": {},
     "outputs": [
      {
       "metadata": {},
       "output_type": "pyout",
       "prompt_number": 37,
       "text": [
        "[<matplotlib.lines.Line2D at 0x7f29a4d9fad0>]"
       ]
      },
      {
       "metadata": {},
       "output_type": "display_data",
       "png": "[encoded data removed]",
       "text": [
        "<matplotlib.figure.Figure at 0x7f29b748b790>"
       ]
      }
     ],
     "prompt_number": 37
    },
    {
     "cell_type": "code",
     "collapsed": false,
     "input": [
      "model = LinearRegression(fit_intercept=True)\n",
      "model.fit(x,y)\n",
      "print (\"Model coefficient: %.5f, and intercept: %.5f\"\n",
      "       % (model.coef_, model.intercept_))"
     ],
     "language": "python",
     "metadata": {},
     "outputs": [
      {
       "output_type": "stream",
       "stream": "stdout",
       "text": [
        "Model coefficient: 5.08764, and intercept: 1.97676\n"
       ]
      }
     ],
     "prompt_number": 38
    },
    {
     "cell_type": "code",
     "collapsed": false,
     "input": [
      "np.linspace?"
     ],
     "language": "python",
     "metadata": {},
     "outputs": [],
     "prompt_number": 31
    },
    {
     "cell_type": "code",
     "collapsed": false,
     "input": [
      "x_test = np.linspace(0,1,100).reshape(100,1)\n",
      "y_hat = model.predict(x_test)"
     ],
     "language": "python",
     "metadata": {},
     "outputs": [],
     "prompt_number": 39
    },
    {
     "cell_type": "code",
     "collapsed": false,
     "input": [
      "plt.plot(x,y, 'o')\n",
      "plt.plot(x_test, y_hat)"
     ],
     "language": "python",
     "metadata": {},
     "outputs": [
      {
       "metadata": {},
       "output_type": "pyout",
       "prompt_number": 40,
       "text": [
        "[<matplotlib.lines.Line2D at 0x7f29a4de2390>]"
       ]
      },
      {
       "metadata": {},
       "output_type": "display_data",
       "png": "[encoded data removed]",
       "text": [
        "<matplotlib.figure.Figure at 0x7f29a4de23d0>"
       ]
      }
     ],
     "prompt_number": 40
    },
    {
     "cell_type": "code",
     "collapsed": false,
     "input": [],
     "language": "python",
     "metadata": {},
     "outputs": []
    }
   ],
   "metadata": {}
  }
 ]
}
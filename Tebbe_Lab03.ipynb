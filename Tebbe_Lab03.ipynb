{
 "metadata": {
  "name": "",
  "signature": "sha256:d94e374e85b037ca4431c233ef5a96ab1a87658402d537cb6e85f07af5642ba4"
 },
 "nbformat": 3,
 "nbformat_minor": 0,
 "worksheets": []
}
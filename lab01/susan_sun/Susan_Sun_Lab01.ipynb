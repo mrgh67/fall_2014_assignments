{
 "metadata": {
  "name": "",
  "signature": "sha256:349b26c5fe9be7ef7cb6db71ed3a5ae8ad707c36ced661f1aca44e016629c3be"
 },
 "nbformat": 3,
 "nbformat_minor": 0,
 "worksheets": [
  {
   "cells": [
    {
     "cell_type": "markdown",
     "metadata": {},
     "source": [
      "Susan Sun.  Data Analytics at Thomson Reuters.\n",
      "Self taught coder in SAS, R, and SQL.\n",
      "LinkedIn: www.linkedin.com/in/susanwsun/\n",
      "Website for Sharing: https://www.otexts.org/fpp"
     ]
    }
   ],
   "metadata": {}
  }
 ]
}
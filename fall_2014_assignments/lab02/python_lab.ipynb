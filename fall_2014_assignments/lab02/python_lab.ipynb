{
 "metadata": {
  "name": "",
  "signature": "sha256:9eb7d2a31042ebed70b11de1201131045dbf66a498af9d96da1476b6dbb74907"
 },
 "nbformat": 3,
 "nbformat_minor": 0,
 "worksheets": [
  {
   "cells": [
    {
     "cell_type": "markdown",
     "metadata": {},
     "source": [
      "# Basic Python Containers: Lists, Dictionaries, Sets, Tuples"
     ]
    },
    {
     "cell_type": "markdown",
     "metadata": {},
     "source": [
      "**Based on lecture materials by Milad Fatenejad, Joshua R. Smith, Will Trimble, and Anthony Scopatz**\n",
      "\n",
      "We will review the following Python data types: **lists**, **dictionaries**, **sets**, and **tuples**."
     ]
    },
    {
     "cell_type": "markdown",
     "metadata": {},
     "source": [
      "## Lists\n",
      "\n",
      "A list is an ordered, indexable collection of data. Lets say you have collected some current and voltage data that looks like this:\n",
      "\n",
      "    voltages:\n",
      "    -2.0\n",
      "    -1.0\n",
      "     0.0\n",
      "     1.0\n",
      "     2.0\n",
      "\n",
      "    currents:\n",
      "    -1.0\n",
      "    -0.5\n",
      "     0.0\n",
      "     0.5\n",
      "     1.0\n",
      "\n",
      "Create lists of the voltages and the currents:"
     ]
    },
    {
     "cell_type": "code",
     "collapsed": true,
     "input": [
      "voltages = [-2.0, -1.0, 0.0, 1.0, 2.0]\n",
      "currents = [-1.0, -0.5, 0.0, 0.5, 1.0]"
     ],
     "language": "python",
     "metadata": {},
     "outputs": [],
     "prompt_number": 1
    },
    {
     "cell_type": "markdown",
     "metadata": {},
     "source": [
      "**voltages** is an object of the type **list**. Verify this in Python."
     ]
    },
    {
     "cell_type": "code",
     "collapsed": true,
     "input": [
      "type(voltages)"
     ],
     "language": "python",
     "metadata": {},
     "outputs": [
      {
       "metadata": {},
       "output_type": "pyout",
       "prompt_number": 2,
       "text": [
        "list"
       ]
      }
     ],
     "prompt_number": 2
    },
    {
     "cell_type": "markdown",
     "metadata": {},
     "source": [
      "Python lists are indexed from zero. Retrieve the first voltage:"
     ]
    },
    {
     "cell_type": "code",
     "collapsed": true,
     "input": [
      "voltages[0]"
     ],
     "language": "python",
     "metadata": {},
     "outputs": [
      {
       "metadata": {},
       "output_type": "pyout",
       "prompt_number": 3,
       "text": [
        "-2.0"
       ]
      }
     ],
     "prompt_number": 3
    },
    {
     "cell_type": "markdown",
     "metadata": {},
     "source": [
      "Now retrieve the third element:"
     ]
    },
    {
     "cell_type": "code",
     "collapsed": true,
     "input": [
      "voltages[2]"
     ],
     "language": "python",
     "metadata": {},
     "outputs": [
      {
       "metadata": {},
       "output_type": "pyout",
       "prompt_number": 4,
       "text": [
        "0.0"
       ]
      }
     ],
     "prompt_number": 4
    },
    {
     "cell_type": "markdown",
     "metadata": {},
     "source": [
      "Lists can be indexed from the back using a negative index. Retrieve the last element from currents by indexing from the end of the list."
     ]
    },
    {
     "cell_type": "code",
     "collapsed": true,
     "input": [
      "currents[-1]"
     ],
     "language": "python",
     "metadata": {},
     "outputs": [
      {
       "metadata": {},
       "output_type": "pyout",
       "prompt_number": 5,
       "text": [
        "1.0"
       ]
      }
     ],
     "prompt_number": 5
    },
    {
     "cell_type": "markdown",
     "metadata": {},
     "source": [
      "Now retrieve the second-to-last element from currents:"
     ]
    },
    {
     "cell_type": "code",
     "collapsed": true,
     "input": [
      "currents[-2]"
     ],
     "language": "python",
     "metadata": {},
     "outputs": [
      {
       "metadata": {},
       "output_type": "pyout",
       "prompt_number": 6,
       "text": [
        "0.5"
       ]
      }
     ],
     "prompt_number": 6
    },
    {
     "cell_type": "markdown",
     "metadata": {},
     "source": [
      "You can \"slice\" items from within a list. Lets say we wanted the second through fourth items from `voltages`"
     ]
    },
    {
     "cell_type": "code",
     "collapsed": true,
     "input": [
      "voltages[1:4]"
     ],
     "language": "python",
     "metadata": {},
     "outputs": [
      {
       "metadata": {},
       "output_type": "pyout",
       "prompt_number": 8,
       "text": [
        "[-1.0, 0.0, 1.0]"
       ]
      }
     ],
     "prompt_number": 8
    },
    {
     "cell_type": "markdown",
     "metadata": {},
     "source": [
      "Now retrieve the first through the third items."
     ]
    },
    {
     "cell_type": "code",
     "collapsed": false,
     "input": [
      "voltages[0:3]"
     ],
     "language": "python",
     "metadata": {},
     "outputs": [
      {
       "metadata": {},
       "output_type": "pyout",
       "prompt_number": 7,
       "text": [
        "[-2.0, -1.0, 0.0]"
       ]
      }
     ],
     "prompt_number": 7
    },
    {
     "cell_type": "markdown",
     "metadata": {},
     "source": [
      "You can also slice from an index to the end, or to an index from the begining."
     ]
    },
    {
     "cell_type": "code",
     "collapsed": true,
     "input": [
      "voltages[2:]\n",
      "voltages[:2]"
     ],
     "language": "python",
     "metadata": {},
     "outputs": [
      {
       "metadata": {},
       "output_type": "pyout",
       "prompt_number": 9,
       "text": [
        "[-2.0, -1.0]"
       ]
      }
     ],
     "prompt_number": 9
    },
    {
     "cell_type": "markdown",
     "metadata": {},
     "source": [
      "### Append and Extend\n",
      "\n",
      "Just like strings have methods, lists do too."
     ]
    },
    {
     "cell_type": "code",
     "collapsed": true,
     "input": [
      "dir(list)"
     ],
     "language": "python",
     "metadata": {},
     "outputs": [
      {
       "metadata": {},
       "output_type": "pyout",
       "prompt_number": 11,
       "text": [
        "['__add__',\n",
        " '__class__',\n",
        " '__contains__',\n",
        " '__delattr__',\n",
        " '__delitem__',\n",
        " '__delslice__',\n",
        " '__doc__',\n",
        " '__eq__',\n",
        " '__format__',\n",
        " '__ge__',\n",
        " '__getattribute__',\n",
        " '__getitem__',\n",
        " '__getslice__',\n",
        " '__gt__',\n",
        " '__hash__',\n",
        " '__iadd__',\n",
        " '__imul__',\n",
        " '__init__',\n",
        " '__iter__',\n",
        " '__le__',\n",
        " '__len__',\n",
        " '__lt__',\n",
        " '__mul__',\n",
        " '__ne__',\n",
        " '__new__',\n",
        " '__reduce__',\n",
        " '__reduce_ex__',\n",
        " '__repr__',\n",
        " '__reversed__',\n",
        " '__rmul__',\n",
        " '__setattr__',\n",
        " '__setitem__',\n",
        " '__setslice__',\n",
        " '__sizeof__',\n",
        " '__str__',\n",
        " '__subclasshook__',\n",
        " 'append',\n",
        " 'count',\n",
        " 'extend',\n",
        " 'index',\n",
        " 'insert',\n",
        " 'pop',\n",
        " 'remove',\n",
        " 'reverse',\n",
        " 'sort']"
       ]
      }
     ],
     "prompt_number": 11
    },
    {
     "cell_type": "markdown",
     "metadata": {},
     "source": [
      "One useful method is append. Lets say we want to stick the following data on the end of both our lists.\n",
      "\n",
      "    voltages:\n",
      "     3.0\n",
      "     4.0\n",
      "\n",
      "    currents:\n",
      "     1.5\n",
      "     2.0\n",
      "\n",
      "If you want to append items to the end of a list, use the append method."
     ]
    },
    {
     "cell_type": "code",
     "collapsed": true,
     "input": [
      "voltages.append(3.0)"
     ],
     "language": "python",
     "metadata": {},
     "outputs": [],
     "prompt_number": 8
    },
    {
     "cell_type": "code",
     "collapsed": true,
     "input": [
      "voltages.append(4.0)"
     ],
     "language": "python",
     "metadata": {},
     "outputs": [],
     "prompt_number": 9
    },
    {
     "cell_type": "code",
     "collapsed": true,
     "input": [
      "voltages"
     ],
     "language": "python",
     "metadata": {},
     "outputs": [
      {
       "metadata": {},
       "output_type": "pyout",
       "prompt_number": 10,
       "text": [
        "[-2.0, -1.0, 0.0, 1.0, 2.0, 3.0, 4.0]"
       ]
      }
     ],
     "prompt_number": 10
    },
    {
     "cell_type": "markdown",
     "metadata": {},
     "source": [
      "You can see how that approach might be tedious in certain cases. If you want to concatenate a list onto the end of another one, use extend."
     ]
    },
    {
     "cell_type": "code",
     "collapsed": true,
     "input": [
      "currents.extend([1.5, 2.0])"
     ],
     "language": "python",
     "metadata": {},
     "outputs": []
    },
    {
     "cell_type": "code",
     "collapsed": true,
     "input": [
      "currents"
     ],
     "language": "python",
     "metadata": {},
     "outputs": [
      {
       "metadata": {},
       "output_type": "pyout",
       "prompt_number": 11,
       "text": [
        "[-1.0, -0.5, 0.0, 0.5, 1.0]"
       ]
      }
     ],
     "prompt_number": 11
    },
    {
     "cell_type": "markdown",
     "metadata": {},
     "source": [
      "### Length of Lists\n",
      "\n",
      "\n",
      "\n",
      "Sometimes you want to know how many items are in a list. Use the len command."
     ]
    },
    {
     "cell_type": "code",
     "collapsed": true,
     "input": [
      "len(voltages)"
     ],
     "language": "python",
     "metadata": {},
     "outputs": [
      {
       "metadata": {},
       "output_type": "pyout",
       "prompt_number": 15,
       "text": [
        "5"
       ]
      }
     ],
     "prompt_number": 15
    },
    {
     "cell_type": "markdown",
     "metadata": {},
     "source": [
      "### Heterogeneous Data\n",
      "\n",
      "\n",
      "\n",
      "Lists can contain hetergeneous data."
     ]
    },
    {
     "cell_type": "code",
     "collapsed": true,
     "input": [
      "data_list = [\"experiment: current vs. voltage\", \n",
      "        \"run\", 47,\n",
      "        \"temperature\", 372.756, \n",
      "        \"current\", [-1.0, -0.5, 0.0, 0.5, 1.0], \n",
      "        \"voltage\", [-2.0, -1.0, 0.0, 1.0, 2.0],\n",
      "        ]"
     ],
     "language": "python",
     "metadata": {},
     "outputs": [],
     "prompt_number": 16
    },
    {
     "cell_type": "code",
     "collapsed": true,
     "input": [
      "print data_list"
     ],
     "language": "python",
     "metadata": {},
     "outputs": [
      {
       "output_type": "stream",
       "stream": "stdout",
       "text": [
        "['experiment: current vs. voltage', 'run', 47, 'temperature', 372.756, 'current', [-1.0, -0.5, 0.0, 0.5, 1.0], 'voltage', [-2.0, -1.0, 0.0, 1.0, 2.0]]\n"
       ]
      }
     ],
     "prompt_number": 17
    },
    {
     "cell_type": "markdown",
     "metadata": {},
     "source": [
      "`data_list` contains strings, ints, floats, and other lists."
     ]
    },
    {
     "cell_type": "markdown",
     "metadata": {},
     "source": [
      "## Assigning Variables to Other Variables\n",
      "\n",
      "Something that might cause you headaches in the future is how python deals with assignment of one variable to another. When you set a variable equal to another, both variables point to the same thing. Changing the first one ends up changing the second. Be careful about this fact."
     ]
    },
    {
     "cell_type": "code",
     "collapsed": true,
     "input": [
      "a = [1, 2]"
     ],
     "language": "python",
     "metadata": {},
     "outputs": []
    },
    {
     "cell_type": "code",
     "collapsed": true,
     "input": [
      "b = a"
     ],
     "language": "python",
     "metadata": {},
     "outputs": []
    },
    {
     "cell_type": "code",
     "collapsed": true,
     "input": [
      "a.append(10)"
     ],
     "language": "python",
     "metadata": {},
     "outputs": []
    },
    {
     "cell_type": "code",
     "collapsed": true,
     "input": [
      "b"
     ],
     "language": "python",
     "metadata": {},
     "outputs": []
    },
    {
     "cell_type": "markdown",
     "metadata": {},
     "source": [
      "To actually make a copy of a list or a dict, use the `list()` and `dict()` builtin methods."
     ]
    },
    {
     "cell_type": "code",
     "collapsed": false,
     "input": [
      "a = [1, 2]\n",
      "b = list(a)\n",
      "a.append(10)\n",
      "print a\n",
      "print b"
     ],
     "language": "python",
     "metadata": {},
     "outputs": []
    },
    {
     "cell_type": "markdown",
     "metadata": {},
     "source": [
      "As a diagnostic tool, if you are ever uncertain if an assignment is making two different variables, \n",
      "you can test whether two variables are actually distinct with the `is` operator:"
     ]
    },
    {
     "cell_type": "code",
     "collapsed": false,
     "input": [
      "a is b"
     ],
     "language": "python",
     "metadata": {},
     "outputs": []
    },
    {
     "cell_type": "markdown",
     "metadata": {},
     "source": [
      "There's a ton more to know about lists, but let's press on. Check out [Dive Into Python](http://www.diveintopython.net/toc/index.html) or the [Python documentation](http://docs.python.org/2/) for more info."
     ]
    },
    {
     "cell_type": "markdown",
     "metadata": {},
     "source": [
      "## Tuples\n",
      "\n",
      "Tuples are another of Python's basic container data types. They are very similar to lists but with one major difference. Tuples are **immutable**. Once data is placed into a tuple, the tuple cannot be changed. You define a tuple as follows:"
     ]
    },
    {
     "cell_type": "code",
     "collapsed": true,
     "input": [
      "tup = (\"red\", \"white\", \"blue\")"
     ],
     "language": "python",
     "metadata": {},
     "outputs": [],
     "prompt_number": 22
    },
    {
     "cell_type": "code",
     "collapsed": true,
     "input": [
      "type(tup)"
     ],
     "language": "python",
     "metadata": {},
     "outputs": [
      {
       "metadata": {},
       "output_type": "pyout",
       "prompt_number": 23,
       "text": [
        "tuple"
       ]
      }
     ],
     "prompt_number": 23
    },
    {
     "cell_type": "markdown",
     "metadata": {},
     "source": [
      "You can slice and index the tuple exactly like you would a list. Tuples are used in the inner workings of python, and a tuple can be used as a key in a dictionary, whereas a list cannot as we will see in a moment.\n",
      "\n",
      "See if you can retrieve the third element of **tup**:"
     ]
    },
    {
     "cell_type": "code",
     "collapsed": true,
     "input": [
      "tup[2]"
     ],
     "language": "python",
     "metadata": {},
     "outputs": [
      {
       "metadata": {},
       "output_type": "pyout",
       "prompt_number": 25,
       "text": [
        "'blue'"
       ]
      }
     ],
     "prompt_number": 25
    },
    {
     "cell_type": "markdown",
     "metadata": {},
     "source": [
      "## Sets\n",
      "\n",
      "\n",
      "\n",
      "The Python set type is similar to the idea of a mathematical set: it is an unordered collection of unique things. Consider:"
     ]
    },
    {
     "cell_type": "code",
     "collapsed": true,
     "input": [
      "fruit = {\"apple\", \"banana\", \"pear\", \"banana\"}"
     ],
     "language": "python",
     "metadata": {},
     "outputs": [],
     "prompt_number": 26
    },
    {
     "cell_type": "markdown",
     "metadata": {},
     "source": [
      "Since sets contain only unique items, there's only one banana in the set fruit.\n",
      "\n",
      "You can do things like intersections, unions, etc. on sets just like in math. Here's an example of an intersection of two sets (the common items in both sets)."
     ]
    },
    {
     "cell_type": "code",
     "collapsed": true,
     "input": [
      "bowl1 = {\"apple\", \"banana\", \"pear\", \"peach\"}"
     ],
     "language": "python",
     "metadata": {},
     "outputs": [],
     "prompt_number": 27
    },
    {
     "cell_type": "code",
     "collapsed": true,
     "input": [
      "bowl2 = {\"peach\", \"watermelon\", \"orange\", \"apple\"}"
     ],
     "language": "python",
     "metadata": {},
     "outputs": [],
     "prompt_number": 28
    },
    {
     "cell_type": "code",
     "collapsed": true,
     "input": [
      "bowl1 & bowl2"
     ],
     "language": "python",
     "metadata": {},
     "outputs": [
      {
       "metadata": {},
       "output_type": "pyout",
       "prompt_number": 29,
       "text": [
        "{'apple', 'peach'}"
       ]
      }
     ],
     "prompt_number": 29
    },
    {
     "cell_type": "code",
     "collapsed": false,
     "input": [
      "bowl1 | bowl2"
     ],
     "language": "python",
     "metadata": {},
     "outputs": [
      {
       "metadata": {},
       "output_type": "pyout",
       "prompt_number": 30,
       "text": [
        "{'apple', 'banana', 'orange', 'peach', 'pear', 'watermelon'}"
       ]
      }
     ],
     "prompt_number": 30
    },
    {
     "cell_type": "markdown",
     "metadata": {},
     "source": [
      "You can read more in the [sets documentation](http://docs.python.org/2/library/sets.html)."
     ]
    },
    {
     "cell_type": "markdown",
     "metadata": {},
     "source": [
      "## Dictionaries\n",
      "\n",
      "A Python dictionary is an unordered collection of key-value pairs."
     ]
    },
    {
     "cell_type": "code",
     "collapsed": true,
     "input": [
      "data_dict = {\"experiment\": \"current vs. voltage\",\n",
      "        \"run\": 47,\n",
      "        \"temperature\": 372.756, \n",
      "        \"currents\": [-1.0, -0.5, 0.0, 0.5, 1.0], \n",
      "        \"voltages\": [-2.0, -1.0, 0.0, 1.0, 2.0],\n",
      "        }"
     ],
     "language": "python",
     "metadata": {},
     "outputs": [],
     "prompt_number": 32
    },
    {
     "cell_type": "code",
     "collapsed": true,
     "input": [
      "print data_dict"
     ],
     "language": "python",
     "metadata": {},
     "outputs": [
      {
       "output_type": "stream",
       "stream": "stdout",
       "text": [
        "{'experiment': 'current vs. voltage', 'run': 47, 'temperature': 372.756, 'currents': [-1.0, -0.5, 0.0, 0.5, 1.0], 'voltages': [-2.0, -1.0, 0.0, 1.0, 2.0]}\n"
       ]
      }
     ],
     "prompt_number": 33
    },
    {
     "cell_type": "markdown",
     "metadata": {},
     "source": [
      "This model is better because you no longer have to remember that the run number is in the second position of the list, you just refer directly to \"run\":"
     ]
    },
    {
     "cell_type": "code",
     "collapsed": true,
     "input": [
      "data_dict[\"run\"]"
     ],
     "language": "python",
     "metadata": {},
     "outputs": [
      {
       "metadata": {},
       "output_type": "pyout",
       "prompt_number": 34,
       "text": [
        "47"
       ]
      }
     ],
     "prompt_number": 34
    },
    {
     "cell_type": "markdown",
     "metadata": {},
     "source": [
      "Now retrieve the voltages from `data_dict`."
     ]
    },
    {
     "cell_type": "code",
     "collapsed": true,
     "input": [
      "data_dict[\"voltages\"]"
     ],
     "language": "python",
     "metadata": {},
     "outputs": [
      {
       "metadata": {},
       "output_type": "pyout",
       "prompt_number": 35,
       "text": [
        "[-2.0, -1.0, 0.0, 1.0, 2.0]"
       ]
      }
     ],
     "prompt_number": 35
    },
    {
     "cell_type": "markdown",
     "metadata": {},
     "source": [
      "Now print the last element of the list keyed on \"currents\"."
     ]
    },
    {
     "cell_type": "code",
     "collapsed": true,
     "input": [
      "data_dict[\"currents\"][-1]"
     ],
     "language": "python",
     "metadata": {},
     "outputs": [
      {
       "metadata": {},
       "output_type": "pyout",
       "prompt_number": 39,
       "text": [
        "1.0"
       ]
      }
     ],
     "prompt_number": 39
    },
    {
     "cell_type": "markdown",
     "metadata": {},
     "source": [
      "Dictionaries are mutable. That is, you can change the keys and values after they have been created."
     ]
    },
    {
     "cell_type": "code",
     "collapsed": true,
     "input": [
      "# TODO now you change the value for the key \"temperature\" to 3275.39.\n",
      "data_dict[\"temperature\"] = 3275.39"
     ],
     "language": "python",
     "metadata": {},
     "outputs": [],
     "prompt_number": 40
    },
    {
     "cell_type": "markdown",
     "metadata": {},
     "source": [
      "You can also add new keys to the dictionary.  Note that dictionaries are indexed with square braces, just like lists."
     ]
    },
    {
     "cell_type": "code",
     "collapsed": true,
     "input": [
      "# TODO now add the key:value pair \"user\":\"Johann G. von Ulm\"\n",
      "data_dict[\"user\"] = \"Johann G. von Ulm\""
     ],
     "language": "python",
     "metadata": {},
     "outputs": [],
     "prompt_number": 42
    },
    {
     "cell_type": "markdown",
     "metadata": {},
     "source": [
      "Dictionaries, like strings, lists, and all the rest, have built-in methods. Print all of the keys for the dictionary using the `keys()` method."
     ]
    },
    {
     "cell_type": "code",
     "collapsed": true,
     "input": [
      "# TODO now you add the code to print the keys.\n",
      "print data_dict.keys()"
     ],
     "language": "python",
     "metadata": {},
     "outputs": [
      {
       "output_type": "stream",
       "stream": "stdout",
       "text": [
        "['run', 'temperature', 'voltages', 'experiment', 'user', 'currents']\n"
       ]
      }
     ],
     "prompt_number": 43
    },
    {
     "cell_type": "markdown",
     "metadata": {},
     "source": [
      "Now find a method to print all of the dictionary's values."
     ]
    },
    {
     "cell_type": "code",
     "collapsed": true,
     "input": [
      "# TODO now find a method to print all of the dictionary's values.\n",
      "print data_dict.values()"
     ],
     "language": "python",
     "metadata": {},
     "outputs": [
      {
       "output_type": "stream",
       "stream": "stdout",
       "text": [
        "[47, 3275.39, [-2.0, -1.0, 0.0, 1.0, 2.0], 'current vs. voltage', 'Johann G. von Ulm', [-1.0, -0.5, 0.0, 0.5, 1.0]]\n"
       ]
      }
     ],
     "prompt_number": 44
    },
    {
     "cell_type": "code",
     "collapsed": false,
     "input": [],
     "language": "python",
     "metadata": {},
     "outputs": []
    }
   ],
   "metadata": {}
  }
 ]
}
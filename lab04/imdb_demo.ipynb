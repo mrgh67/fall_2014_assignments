{
 "metadata": {
  "name": "",
  "signature": "sha256:76824dc69569c64702998499648fec322e14cc4b92c80826866a5e887e1fe12c"
 },
 "nbformat": 3,
 "nbformat_minor": 0,
 "worksheets": [
  {
   "cells": [
    {
     "cell_type": "markdown",
     "metadata": {},
     "source": [
      "# Exploratory Data Analysis: Consumer Preference\n",
      "A voyage through evaluating preferential factors in cinema using public IMDB data"
     ]
    },
    {
     "cell_type": "markdown",
     "metadata": {},
     "source": [
      "_This notebook is adapted from [Chris Beaumont's](http://chrisbeaumont.org/) [\"Rubric for Data Wrangling and Exploration\"](http://nbviewer.ipython.org/github/cs109/content/blob/master/lec_04_wrangling.ipynb)_"
     ]
    },
    {
     "cell_type": "code",
     "collapsed": false,
     "input": [
      "%matplotlib inline\n",
      "# from pylab import *\n",
      "\n",
      "import matplotlib.pyplot as plt\n",
      "import pandas as pd\n",
      "import numpy as np"
     ],
     "language": "python",
     "metadata": {},
     "outputs": [],
     "prompt_number": 43
    },
    {
     "cell_type": "markdown",
     "metadata": {},
     "source": [
      "## Acquire Data"
     ]
    },
    {
     "cell_type": "code",
     "collapsed": false,
     "input": [
      "# Dump the data into a frame and label it so if we come back to it later we'll know what's what\n",
      "# We can see that there were no titles so we'll provide them\n",
      "# Its also clear that there's tab separations \n",
      "names = ['imdbID', 'Title', 'year', 'score', 'votes', 'runtime', 'genres']\n",
      "data = pd.read_csv('imdb_top_10000.txt', delimiter='\\t', names=names).dropna()\n",
      "print \"Number of rows: %i. Number of columns: %i\" %(data.shape[0],data.shape[1])\n",
      "data.head()  # print the first 5 rows"
     ],
     "language": "python",
     "metadata": {},
     "outputs": [
      {
       "output_type": "stream",
       "stream": "stdout",
       "text": [
        "Number of rows: 9999. Number of columns: 7\n"
       ]
      },
      {
       "html": [
        "<div style=\"max-height:1000px;max-width:1500px;overflow:auto;\">\n",
        "<table border=\"1\" class=\"dataframe\">\n",
        "  <thead>\n",
        "    <tr style=\"text-align: right;\">\n",
        "      <th></th>\n",
        "      <th>imdbID</th>\n",
        "      <th>Title</th>\n",
        "      <th>year</th>\n",
        "      <th>score</th>\n",
        "      <th>votes</th>\n",
        "      <th>runtime</th>\n",
        "      <th>genres</th>\n",
        "    </tr>\n",
        "  </thead>\n",
        "  <tbody>\n",
        "    <tr>\n",
        "      <th>0</th>\n",
        "      <td> tt0111161</td>\n",
        "      <td> The Shawshank Redemption (1994)</td>\n",
        "      <td> 1994</td>\n",
        "      <td> 9.2</td>\n",
        "      <td> 619479</td>\n",
        "      <td> 142 mins.</td>\n",
        "      <td>                      Crime|Drama</td>\n",
        "    </tr>\n",
        "    <tr>\n",
        "      <th>1</th>\n",
        "      <td> tt0110912</td>\n",
        "      <td>             Pulp Fiction (1994)</td>\n",
        "      <td> 1994</td>\n",
        "      <td> 9.0</td>\n",
        "      <td> 490065</td>\n",
        "      <td> 154 mins.</td>\n",
        "      <td>                   Crime|Thriller</td>\n",
        "    </tr>\n",
        "    <tr>\n",
        "      <th>2</th>\n",
        "      <td> tt0137523</td>\n",
        "      <td>               Fight Club (1999)</td>\n",
        "      <td> 1999</td>\n",
        "      <td> 8.8</td>\n",
        "      <td> 458173</td>\n",
        "      <td> 139 mins.</td>\n",
        "      <td>           Drama|Mystery|Thriller</td>\n",
        "    </tr>\n",
        "    <tr>\n",
        "      <th>3</th>\n",
        "      <td> tt0133093</td>\n",
        "      <td>               The Matrix (1999)</td>\n",
        "      <td> 1999</td>\n",
        "      <td> 8.7</td>\n",
        "      <td> 448114</td>\n",
        "      <td> 136 mins.</td>\n",
        "      <td>          Action|Adventure|Sci-Fi</td>\n",
        "    </tr>\n",
        "    <tr>\n",
        "      <th>4</th>\n",
        "      <td> tt1375666</td>\n",
        "      <td>                Inception (2010)</td>\n",
        "      <td> 2010</td>\n",
        "      <td> 8.9</td>\n",
        "      <td> 385149</td>\n",
        "      <td> 148 mins.</td>\n",
        "      <td> Action|Adventure|Sci-Fi|Thriller</td>\n",
        "    </tr>\n",
        "  </tbody>\n",
        "</table>\n",
        "</div>"
       ],
       "metadata": {},
       "output_type": "pyout",
       "prompt_number": 60,
       "text": [
        "      imdbID                            Title  year  score   votes    runtime  \\\n",
        "0  tt0111161  The Shawshank Redemption (1994)  1994    9.2  619479  142 mins.   \n",
        "1  tt0110912              Pulp Fiction (1994)  1994    9.0  490065  154 mins.   \n",
        "2  tt0137523                Fight Club (1999)  1999    8.8  458173  139 mins.   \n",
        "3  tt0133093                The Matrix (1999)  1999    8.7  448114  136 mins.   \n",
        "4  tt1375666                 Inception (2010)  2010    8.9  385149  148 mins.   \n",
        "\n",
        "                             genres  \n",
        "0                       Crime|Drama  \n",
        "1                    Crime|Thriller  \n",
        "2            Drama|Mystery|Thriller  \n",
        "3           Action|Adventure|Sci-Fi  \n",
        "4  Action|Adventure|Sci-Fi|Thriller  "
       ]
      }
     ],
     "prompt_number": 60
    },
    {
     "cell_type": "markdown",
     "metadata": {},
     "source": [
      "## Clean Data"
     ]
    },
    {
     "cell_type": "markdown",
     "metadata": {},
     "source": [
      "#### MUNGING!!\n",
      "We need to adjust the runtime and genres so we can use them.  And may as well remove the superfluous year from title as well.\n",
      "\n",
      "You must love to munge, or work with someone who loves to munge, to get anywhere in data science.  Understanding strings are lists, is helpful."
     ]
    },
    {
     "cell_type": "code",
     "collapsed": false,
     "input": [
      "# Fix the title\n"
     ],
     "language": "python",
     "metadata": {},
     "outputs": [],
     "prompt_number": 1
    },
    {
     "cell_type": "code",
     "collapsed": true,
     "input": [
      "# Fix the runtime\n",
      "# For each element of data.runtime, split the string at a space and get the first element as a number.\n",
      "# We can use a \"comprehension\":\n"
     ],
     "language": "python",
     "metadata": {},
     "outputs": [],
     "prompt_number": 2
    },
    {
     "cell_type": "code",
     "collapsed": false,
     "input": [
      "# Splitting up the genres\n",
      "#determine the unique genres\n",
      "\n",
      "         "
     ],
     "language": "python",
     "metadata": {},
     "outputs": [],
     "prompt_number": 3
    },
    {
     "cell_type": "markdown",
     "metadata": {},
     "source": [
      "### Exploratory Plots"
     ]
    },
    {
     "cell_type": "code",
     "collapsed": false,
     "input": [
      "#Check properties to see if they make sense:\n",
      "data[['score', 'runtime', 'year', 'votes']].describe()"
     ],
     "language": "python",
     "metadata": {},
     "outputs": [
      {
       "html": [
        "<div style=\"max-height:1000px;max-width:1500px;overflow:auto;\">\n",
        "<table border=\"1\" class=\"dataframe\">\n",
        "  <thead>\n",
        "    <tr style=\"text-align: right;\">\n",
        "      <th></th>\n",
        "      <th>score</th>\n",
        "      <th>runtime</th>\n",
        "      <th>year</th>\n",
        "      <th>votes</th>\n",
        "    </tr>\n",
        "  </thead>\n",
        "  <tbody>\n",
        "    <tr>\n",
        "      <th>count</th>\n",
        "      <td> 9999.000000</td>\n",
        "      <td> 9999.000000</td>\n",
        "      <td> 9999.000000</td>\n",
        "      <td>   9999.000000</td>\n",
        "    </tr>\n",
        "    <tr>\n",
        "      <th>mean</th>\n",
        "      <td>    6.385989</td>\n",
        "      <td>  103.580358</td>\n",
        "      <td> 1993.471447</td>\n",
        "      <td>  16605.462946</td>\n",
        "    </tr>\n",
        "    <tr>\n",
        "      <th>std</th>\n",
        "      <td>    1.189965</td>\n",
        "      <td>   26.629310</td>\n",
        "      <td>   14.830049</td>\n",
        "      <td>  34564.883945</td>\n",
        "    </tr>\n",
        "    <tr>\n",
        "      <th>min</th>\n",
        "      <td>    1.500000</td>\n",
        "      <td>    0.000000</td>\n",
        "      <td> 1950.000000</td>\n",
        "      <td>   1356.000000</td>\n",
        "    </tr>\n",
        "    <tr>\n",
        "      <th>25%</th>\n",
        "      <td>    5.700000</td>\n",
        "      <td>   93.000000</td>\n",
        "      <td> 1986.000000</td>\n",
        "      <td>   2334.500000</td>\n",
        "    </tr>\n",
        "    <tr>\n",
        "      <th>50%</th>\n",
        "      <td>    6.600000</td>\n",
        "      <td>  102.000000</td>\n",
        "      <td> 1998.000000</td>\n",
        "      <td>   4981.000000</td>\n",
        "    </tr>\n",
        "    <tr>\n",
        "      <th>75%</th>\n",
        "      <td>    7.200000</td>\n",
        "      <td>  115.000000</td>\n",
        "      <td> 2005.000000</td>\n",
        "      <td>  15278.500000</td>\n",
        "    </tr>\n",
        "    <tr>\n",
        "      <th>max</th>\n",
        "      <td>    9.200000</td>\n",
        "      <td>  450.000000</td>\n",
        "      <td> 2011.000000</td>\n",
        "      <td> 619479.000000</td>\n",
        "    </tr>\n",
        "  </tbody>\n",
        "</table>\n",
        "</div>"
       ],
       "metadata": {},
       "output_type": "pyout",
       "prompt_number": 49,
       "text": [
        "             score      runtime         year          votes\n",
        "count  9999.000000  9999.000000  9999.000000    9999.000000\n",
        "mean      6.385989   103.580358  1993.471447   16605.462946\n",
        "std       1.189965    26.629310    14.830049   34564.883945\n",
        "min       1.500000     0.000000  1950.000000    1356.000000\n",
        "25%       5.700000    93.000000  1986.000000    2334.500000\n",
        "50%       6.600000   102.000000  1998.000000    4981.000000\n",
        "75%       7.200000   115.000000  2005.000000   15278.500000\n",
        "max       9.200000   450.000000  2011.000000  619479.000000"
       ]
      }
     ],
     "prompt_number": 49
    },
    {
     "cell_type": "code",
     "collapsed": false,
     "input": [
      "# Remove any zero runtimes\n",
      "print len(data[data.runtime == 0])\n",
      "#probably best to flag those bad data as NAN\n",
      "data.runtime[data.runtime==0] = np.nan"
     ],
     "language": "python",
     "metadata": {},
     "outputs": [
      {
       "output_type": "stream",
       "stream": "stdout",
       "text": [
        "282\n"
       ]
      }
     ],
     "prompt_number": 50
    },
    {
     "cell_type": "code",
     "collapsed": false,
     "input": [
      "data[['score', 'runtime', 'year', 'votes']].describe()"
     ],
     "language": "python",
     "metadata": {},
     "outputs": [
      {
       "html": [
        "<div style=\"max-height:1000px;max-width:1500px;overflow:auto;\">\n",
        "<table border=\"1\" class=\"dataframe\">\n",
        "  <thead>\n",
        "    <tr style=\"text-align: right;\">\n",
        "      <th></th>\n",
        "      <th>score</th>\n",
        "      <th>runtime</th>\n",
        "      <th>year</th>\n",
        "      <th>votes</th>\n",
        "    </tr>\n",
        "  </thead>\n",
        "  <tbody>\n",
        "    <tr>\n",
        "      <th>count</th>\n",
        "      <td> 9999.000000</td>\n",
        "      <td> 9717.000000</td>\n",
        "      <td> 9999.000000</td>\n",
        "      <td>   9999.000000</td>\n",
        "    </tr>\n",
        "    <tr>\n",
        "      <th>mean</th>\n",
        "      <td>    6.385989</td>\n",
        "      <td>  106.586395</td>\n",
        "      <td> 1993.471447</td>\n",
        "      <td>  16605.462946</td>\n",
        "    </tr>\n",
        "    <tr>\n",
        "      <th>std</th>\n",
        "      <td>    1.189965</td>\n",
        "      <td>   20.230330</td>\n",
        "      <td>   14.830049</td>\n",
        "      <td>  34564.883945</td>\n",
        "    </tr>\n",
        "    <tr>\n",
        "      <th>min</th>\n",
        "      <td>    1.500000</td>\n",
        "      <td>   45.000000</td>\n",
        "      <td> 1950.000000</td>\n",
        "      <td>   1356.000000</td>\n",
        "    </tr>\n",
        "    <tr>\n",
        "      <th>25%</th>\n",
        "      <td>    5.700000</td>\n",
        "      <td>   93.000000</td>\n",
        "      <td> 1986.000000</td>\n",
        "      <td>   2334.500000</td>\n",
        "    </tr>\n",
        "    <tr>\n",
        "      <th>50%</th>\n",
        "      <td>    6.600000</td>\n",
        "      <td>  103.000000</td>\n",
        "      <td> 1998.000000</td>\n",
        "      <td>   4981.000000</td>\n",
        "    </tr>\n",
        "    <tr>\n",
        "      <th>75%</th>\n",
        "      <td>    7.200000</td>\n",
        "      <td>  115.000000</td>\n",
        "      <td> 2005.000000</td>\n",
        "      <td>  15278.500000</td>\n",
        "    </tr>\n",
        "    <tr>\n",
        "      <th>max</th>\n",
        "      <td>    9.200000</td>\n",
        "      <td>  450.000000</td>\n",
        "      <td> 2011.000000</td>\n",
        "      <td> 619479.000000</td>\n",
        "    </tr>\n",
        "  </tbody>\n",
        "</table>\n",
        "</div>"
       ],
       "metadata": {},
       "output_type": "pyout",
       "prompt_number": 51,
       "text": [
        "             score      runtime         year          votes\n",
        "count  9999.000000  9717.000000  9999.000000    9999.000000\n",
        "mean      6.385989   106.586395  1993.471447   16605.462946\n",
        "std       1.189965    20.230330    14.830049   34564.883945\n",
        "min       1.500000    45.000000  1950.000000    1356.000000\n",
        "25%       5.700000    93.000000  1986.000000    2334.500000\n",
        "50%       6.600000   103.000000  1998.000000    4981.000000\n",
        "75%       7.200000   115.000000  2005.000000   15278.500000\n",
        "max       9.200000   450.000000  2011.000000  619479.000000"
       ]
      }
     ],
     "prompt_number": 51
    },
    {
     "cell_type": "markdown",
     "metadata": {},
     "source": [
      "### Exploratory Plots (histograms!)"
     ]
    },
    {
     "cell_type": "markdown",
     "metadata": {},
     "source": [
      "# Exercise: histograms of release year, score, runtime"
     ]
    },
    {
     "cell_type": "code",
     "collapsed": false,
     "input": [],
     "language": "python",
     "metadata": {},
     "outputs": [],
     "prompt_number": 0
    },
    {
     "cell_type": "markdown",
     "metadata": {},
     "source": [
      "# Exercise: scatterplots of release year vs. score, # votes vs score\n"
     ]
    },
    {
     "cell_type": "code",
     "collapsed": false,
     "input": [],
     "language": "python",
     "metadata": {},
     "outputs": []
    },
    {
     "cell_type": "markdown",
     "metadata": {},
     "source": [
      "### Who are those outliers?\n",
      "#### Who is that movie with lots of votes but a score of betweeen 3 and 4?\n",
      "#### Over 70000, less than 4\n"
     ]
    },
    {
     "cell_type": "code",
     "collapsed": false,
     "input": [],
     "language": "python",
     "metadata": {},
     "outputs": []
    },
    {
     "cell_type": "markdown",
     "metadata": {},
     "source": [
      "# The lowest rated movies"
     ]
    },
    {
     "cell_type": "code",
     "collapsed": false,
     "input": [],
     "language": "python",
     "metadata": {},
     "outputs": []
    },
    {
     "cell_type": "markdown",
     "metadata": {},
     "source": [
      "# The highest rated movies\n"
     ]
    },
    {
     "cell_type": "code",
     "collapsed": false,
     "input": [],
     "language": "python",
     "metadata": {},
     "outputs": []
    },
    {
     "cell_type": "markdown",
     "metadata": {},
     "source": [
      "### Subset Comparisons\n",
      "Are there natural subsets we'd like to comapre? "
     ]
    },
    {
     "cell_type": "code",
     "collapsed": true,
     "input": [
      "# By Decade\n",
      "# Make a separate table with the decades\n",
      "decade =  (data.year / 10) * 10\n",
      "\n",
      "tyd = data[['Title', 'year']]\n",
      "tyd['decade'] = decade\n",
      "\n",
      "tyd.head()"
     ],
     "language": "python",
     "metadata": {},
     "outputs": [
      {
       "html": [
        "<div style=\"max-height:1000px;max-width:1500px;overflow:auto;\">\n",
        "<table border=\"1\" class=\"dataframe\">\n",
        "  <thead>\n",
        "    <tr style=\"text-align: right;\">\n",
        "      <th></th>\n",
        "      <th>Title</th>\n",
        "      <th>year</th>\n",
        "      <th>decade</th>\n",
        "    </tr>\n",
        "  </thead>\n",
        "  <tbody>\n",
        "    <tr>\n",
        "      <th>0</th>\n",
        "      <td> The Shawshank Redemption (1994)</td>\n",
        "      <td> 1994</td>\n",
        "      <td> 1990</td>\n",
        "    </tr>\n",
        "    <tr>\n",
        "      <th>1</th>\n",
        "      <td>             Pulp Fiction (1994)</td>\n",
        "      <td> 1994</td>\n",
        "      <td> 1990</td>\n",
        "    </tr>\n",
        "    <tr>\n",
        "      <th>2</th>\n",
        "      <td>               Fight Club (1999)</td>\n",
        "      <td> 1999</td>\n",
        "      <td> 1990</td>\n",
        "    </tr>\n",
        "    <tr>\n",
        "      <th>3</th>\n",
        "      <td>               The Matrix (1999)</td>\n",
        "      <td> 1999</td>\n",
        "      <td> 1990</td>\n",
        "    </tr>\n",
        "    <tr>\n",
        "      <th>4</th>\n",
        "      <td>                Inception (2010)</td>\n",
        "      <td> 2010</td>\n",
        "      <td> 2010</td>\n",
        "    </tr>\n",
        "  </tbody>\n",
        "</table>\n",
        "</div>"
       ],
       "metadata": {},
       "output_type": "pyout",
       "prompt_number": 62,
       "text": [
        "                             Title  year  decade\n",
        "0  The Shawshank Redemption (1994)  1994    1990\n",
        "1              Pulp Fiction (1994)  1994    1990\n",
        "2                Fight Club (1999)  1999    1990\n",
        "3                The Matrix (1999)  1999    1990\n",
        "4                 Inception (2010)  2010    2010"
       ]
      }
     ],
     "prompt_number": 62
    },
    {
     "cell_type": "code",
     "collapsed": false,
     "input": [
      "# We can group the score by decade:\n",
      "data.groupby(decade).score.head(10)"
     ],
     "language": "python",
     "metadata": {},
     "outputs": [
      {
       "metadata": {},
       "output_type": "pyout",
       "prompt_number": 63,
       "text": [
        "year     \n",
        "1950  143    8.9\n",
        "      177    8.7\n",
        "      212    8.8\n",
        "      247    8.6\n",
        "      249    8.5\n",
        "      417    8.4\n",
        "      536    8.2\n",
        "      539    8.4\n",
        "      556    8.7\n",
        "      561    8.4\n",
        "1960  85     9.0\n",
        "      92     8.4\n",
        "      98     8.6\n",
        "      128    8.7\n",
        "      321    8.8\n",
        "...\n",
        "2000  23     8.4\n",
        "      24     8.5\n",
        "      25     8.9\n",
        "      27     8.8\n",
        "      28     8.8\n",
        "2010  4      8.9\n",
        "      100    8.0\n",
        "      117    8.3\n",
        "      122    8.6\n",
        "      145    8.0\n",
        "      178    8.1\n",
        "      257    8.3\n",
        "      277    7.1\n",
        "      301    6.6\n",
        "      346    7.6\n",
        "Length: 70, dtype: float64"
       ]
      }
     ],
     "prompt_number": 63
    },
    {
     "cell_type": "code",
     "collapsed": false,
     "input": [
      "#mean score for all movies in each decade\n",
      "decade_mean = data.groupby(decade).score.mean()\n",
      "print(decade_mean)"
     ],
     "language": "python",
     "metadata": {},
     "outputs": [
      {
       "output_type": "stream",
       "stream": "stdout",
       "text": [
        "year\n",
        "1950    7.244522\n",
        "1960    7.062367\n",
        "1970    6.842297\n",
        "1980    6.248693\n",
        "1990    6.199316\n",
        "2000    6.277858\n",
        "2010    6.344552\n",
        "Name: score, dtype: float64\n"
       ]
      }
     ],
     "prompt_number": 64
    },
    {
     "cell_type": "markdown",
     "metadata": {},
     "source": [
      "### Plot Average Score per Decade\n",
      "\n"
     ]
    }
   ],
   "metadata": {}
  }
 ]
}